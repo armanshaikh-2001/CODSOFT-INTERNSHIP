{
  "nbformat": 4,
  "nbformat_minor": 0,
  "metadata": {
    "colab": {
      "provenance": []
    },
    "kernelspec": {
      "name": "python3",
      "display_name": "Python 3"
    },
    "language_info": {
      "name": "python"
    }
  },
  "cells": [
    {
      "cell_type": "markdown",
      "source": [
        "TITLE : Movie Recommendation System\n",
        "  *   AUTHOR: Arman Shaikh\n",
        "  *   DOMAIN: DATA SCIENCE\n",
        "  *   AIM   : To build a model to predict the rating of a movie and estimte the rating accurately"
      ],
      "metadata": {
        "id": "u3_NmNhKuO_t"
      }
    },
    {
      "cell_type": "markdown",
      "source": [
        "**Install and Import Libraries**\n",
        "* Install the Surprise library , and then import the necessary Python libraries:"
      ],
      "metadata": {
        "id": "Cyw29eyphirK"
      }
    },
    {
      "cell_type": "code",
      "source": [
        "pip install scikit-surprise"
      ],
      "metadata": {
        "colab": {
          "base_uri": "https://localhost:8080/"
        },
        "id": "iwZZzcwvdoxP",
        "outputId": "3b081335-6c5a-435e-fd73-843b48cf5576"
      },
      "execution_count": 1,
      "outputs": [
        {
          "output_type": "stream",
          "name": "stdout",
          "text": [
            "Collecting scikit-surprise\n",
            "  Downloading scikit_surprise-1.1.4.tar.gz (154 kB)\n",
            "\u001b[?25l     \u001b[90m━━━━━━━━━━━━━━━━━━━━━━━━━━━━━━━━━━━━━━━━\u001b[0m \u001b[32m0.0/154.4 kB\u001b[0m \u001b[31m?\u001b[0m eta \u001b[36m-:--:--\u001b[0m\r\u001b[2K     \u001b[91m━━━━━━━━━━━━━━━━━━━━━━━━━━━━━━━━━━━━━━━\u001b[0m\u001b[91m╸\u001b[0m \u001b[32m153.6/154.4 kB\u001b[0m \u001b[31m6.0 MB/s\u001b[0m eta \u001b[36m0:00:01\u001b[0m\r\u001b[2K     \u001b[90m━━━━━━━━━━━━━━━━━━━━━━━━━━━━━━━━━━━━━━━━\u001b[0m \u001b[32m154.4/154.4 kB\u001b[0m \u001b[31m3.0 MB/s\u001b[0m eta \u001b[36m0:00:00\u001b[0m\n",
            "\u001b[?25h  Installing build dependencies ... \u001b[?25l\u001b[?25hdone\n",
            "  Getting requirements to build wheel ... \u001b[?25l\u001b[?25hdone\n",
            "  Preparing metadata (pyproject.toml) ... \u001b[?25l\u001b[?25hdone\n",
            "Requirement already satisfied: joblib>=1.2.0 in /usr/local/lib/python3.10/dist-packages (from scikit-surprise) (1.4.2)\n",
            "Requirement already satisfied: numpy>=1.19.5 in /usr/local/lib/python3.10/dist-packages (from scikit-surprise) (1.26.4)\n",
            "Requirement already satisfied: scipy>=1.6.0 in /usr/local/lib/python3.10/dist-packages (from scikit-surprise) (1.13.1)\n",
            "Building wheels for collected packages: scikit-surprise\n",
            "  Building wheel for scikit-surprise (pyproject.toml) ... \u001b[?25l\u001b[?25hdone\n",
            "  Created wheel for scikit-surprise: filename=scikit_surprise-1.1.4-cp310-cp310-linux_x86_64.whl size=2357280 sha256=b560886bb22a995124321470fa8e981217d852fa03a64e3b9f3db0f04485afaf\n",
            "  Stored in directory: /root/.cache/pip/wheels/4b/3f/df/6acbf0a40397d9bf3ff97f582cc22fb9ce66adde75bc71fd54\n",
            "Successfully built scikit-surprise\n",
            "Installing collected packages: scikit-surprise\n",
            "Successfully installed scikit-surprise-1.1.4\n"
          ]
        }
      ]
    },
    {
      "cell_type": "code",
      "execution_count": 2,
      "metadata": {
        "id": "6esa9ch-pwU_"
      },
      "outputs": [],
      "source": [
        "import pandas as pd\n",
        "from surprise import Dataset, Reader, SVD\n",
        "from surprise.model_selection import train_test_split\n",
        "from surprise import accuracy\n"
      ]
    },
    {
      "cell_type": "markdown",
      "source": [
        " **Load and Prepare the Dataset**\n",
        " * Load the dataset using pandas and prepare it for the Surprise library:"
      ],
      "metadata": {
        "id": "YxKWRv0JhWot"
      }
    },
    {
      "cell_type": "code",
      "source": [
        "# Load the dataset\n",
        "movie = pd.read_csv('/content/IMDb Movies India.csv', encoding='latin-1')\n",
        "\n",
        "# Display the first few rows of the dataset\n",
        "print(movie.head())\n",
        "\n",
        "# Display basic information about the dataset\n",
        "print(movie.info())\n"
      ],
      "metadata": {
        "id": "1sSc13RBp4GK",
        "colab": {
          "base_uri": "https://localhost:8080/"
        },
        "outputId": "72cfc548-cb6e-49a9-be44-9e4945a3800f"
      },
      "execution_count": 7,
      "outputs": [
        {
          "output_type": "stream",
          "name": "stdout",
          "text": [
            "                                 Name    Year Duration            Genre  \\\n",
            "0                                         NaN      NaN            Drama   \n",
            "1  #Gadhvi (He thought he was Gandhi)  (2019)  109 min            Drama   \n",
            "2                         #Homecoming  (2021)   90 min   Drama, Musical   \n",
            "3                             #Yaaram  (2019)  110 min  Comedy, Romance   \n",
            "4                   ...And Once Again  (2010)  105 min            Drama   \n",
            "\n",
            "   Rating Votes            Director       Actor 1             Actor 2  \\\n",
            "0     NaN   NaN       J.S. Randhawa      Manmauji              Birbal   \n",
            "1     7.0     8       Gaurav Bakshi  Rasika Dugal      Vivek Ghamande   \n",
            "2     NaN   NaN  Soumyajit Majumdar  Sayani Gupta   Plabita Borthakur   \n",
            "3     4.4    35          Ovais Khan       Prateik          Ishita Raj   \n",
            "4     NaN   NaN        Amol Palekar  Rajat Kapoor  Rituparna Sengupta   \n",
            "\n",
            "           Actor 3  \n",
            "0  Rajendra Bhatia  \n",
            "1    Arvind Jangid  \n",
            "2       Roy Angana  \n",
            "3  Siddhant Kapoor  \n",
            "4      Antara Mali  \n",
            "<class 'pandas.core.frame.DataFrame'>\n",
            "RangeIndex: 15509 entries, 0 to 15508\n",
            "Data columns (total 10 columns):\n",
            " #   Column    Non-Null Count  Dtype  \n",
            "---  ------    --------------  -----  \n",
            " 0   Name      15509 non-null  object \n",
            " 1   Year      14981 non-null  object \n",
            " 2   Duration  7240 non-null   object \n",
            " 3   Genre     13632 non-null  object \n",
            " 4   Rating    7919 non-null   float64\n",
            " 5   Votes     7920 non-null   object \n",
            " 6   Director  14984 non-null  object \n",
            " 7   Actor 1   13892 non-null  object \n",
            " 8   Actor 2   13125 non-null  object \n",
            " 9   Actor 3   12365 non-null  object \n",
            "dtypes: float64(1), object(9)\n",
            "memory usage: 1.2+ MB\n",
            "None\n"
          ]
        }
      ]
    },
    {
      "cell_type": "code",
      "source": [
        "# Display the first few rows of the dataset\n",
        "print(movie.head())"
      ],
      "metadata": {
        "colab": {
          "base_uri": "https://localhost:8080/"
        },
        "id": "lsdEKRHyp5e_",
        "outputId": "619f6754-f816-4cd1-8960-3ea35d8f6702"
      },
      "execution_count": 18,
      "outputs": [
        {
          "output_type": "stream",
          "name": "stdout",
          "text": [
            "                                 Name    Year Duration            Genre  \\\n",
            "0                                         NaN      NaN            Drama   \n",
            "1  #Gadhvi (He thought he was Gandhi)  (2019)  109 min            Drama   \n",
            "2                         #Homecoming  (2021)   90 min   Drama, Musical   \n",
            "3                             #Yaaram  (2019)  110 min  Comedy, Romance   \n",
            "4                   ...And Once Again  (2010)  105 min            Drama   \n",
            "\n",
            "   Rating Votes            Director       Actor 1             Actor 2  \\\n",
            "0     NaN   NaN       J.S. Randhawa      Manmauji              Birbal   \n",
            "1     7.0     8       Gaurav Bakshi  Rasika Dugal      Vivek Ghamande   \n",
            "2     NaN   NaN  Soumyajit Majumdar  Sayani Gupta   Plabita Borthakur   \n",
            "3     4.4    35          Ovais Khan       Prateik          Ishita Raj   \n",
            "4     NaN   NaN        Amol Palekar  Rajat Kapoor  Rituparna Sengupta   \n",
            "\n",
            "           Actor 3  \n",
            "0  Rajendra Bhatia  \n",
            "1    Arvind Jangid  \n",
            "2       Roy Angana  \n",
            "3  Siddhant Kapoor  \n",
            "4      Antara Mali  \n"
          ]
        }
      ]
    },
    {
      "cell_type": "markdown",
      "source": [
        "**Prepare the Data for the Surprise Library**\n",
        "* Convert the data into the format required by the Surprise library"
      ],
      "metadata": {
        "id": "ii_FuOlqiGA0"
      }
    },
    {
      "cell_type": "code",
      "source": [
        "# Define the format for reading the data\n",
        "reader = Reader(rating_scale=(1, 5))  # Assuming ratings are on a scale of 1 to 5\n",
        "\n",
        "# Load the dataset into Surprise's data structure\n",
        "data = Dataset.load_from_df(movie[['Name', 'Votes', 'Rating']], reader)\n"
      ],
      "metadata": {
        "id": "8k4QtfuHp9cI"
      },
      "execution_count": 11,
      "outputs": []
    },
    {
      "cell_type": "markdown",
      "source": [
        " **Split the Dataset**\n",
        "* Split the dataset into training and testing sets"
      ],
      "metadata": {
        "id": "O6-KLYkOiic6"
      }
    },
    {
      "cell_type": "code",
      "source": [
        "# Split the data into training and test sets\n",
        "trainset, testset = train_test_split(data, test_size=0.2, random_state=42)\n"
      ],
      "metadata": {
        "id": "uwfJYIk8qAtm"
      },
      "execution_count": 12,
      "outputs": []
    },
    {
      "cell_type": "markdown",
      "source": [
        "**Train the Model**\n",
        "* Use the Singular Value Decomposition (SVD) algorithm to train the model. SVD is a popular collaborative filtering algorithm for rating prediction"
      ],
      "metadata": {
        "id": "xAent-8cipd2"
      }
    },
    {
      "cell_type": "code",
      "source": [
        "# Initialize the SVD algorithm\n",
        "model = SVD()\n",
        "\n",
        "# Train the model on the training set\n",
        "model.fit(trainset)\n"
      ],
      "metadata": {
        "id": "FpWr2uTdqEbG",
        "colab": {
          "base_uri": "https://localhost:8080/"
        },
        "outputId": "d97738a0-c073-44e1-b8f5-95f36e779cec"
      },
      "execution_count": 13,
      "outputs": [
        {
          "output_type": "execute_result",
          "data": {
            "text/plain": [
              "<surprise.prediction_algorithms.matrix_factorization.SVD at 0x7f600f55d4e0>"
            ]
          },
          "metadata": {},
          "execution_count": 13
        }
      ]
    },
    {
      "cell_type": "markdown",
      "source": [
        "**Evaluate the Model**\n",
        "* Evaluate the model’s performance using the test set:"
      ],
      "metadata": {
        "id": "x6WhoHBei4EU"
      }
    },
    {
      "cell_type": "code",
      "source": [
        "# Make predictions on the test set\n",
        "predictions = model.test(testset)\n",
        "\n",
        "# Calculate the Root Mean Squared Error (RMSE)\n",
        "rmse = accuracy.rmse(predictions)\n",
        "\n",
        "print(f\"Root Mean Squared Error: {rmse}\")\n"
      ],
      "metadata": {
        "colab": {
          "base_uri": "https://localhost:8080/"
        },
        "id": "HlsMAVkTgk22",
        "outputId": "8b28885e-6e32-4a47-ebf0-e7501960a491"
      },
      "execution_count": 14,
      "outputs": [
        {
          "output_type": "stream",
          "name": "stdout",
          "text": [
            "RMSE: nan\n",
            "Root Mean Squared Error: nan\n"
          ]
        }
      ]
    },
    {
      "cell_type": "markdown",
      "source": [
        "**Make Movie Rating Predictions**\n",
        "* To predict the rating that a user would give to a specific movie:"
      ],
      "metadata": {
        "id": "g_ja4wOIjB9l"
      }
    },
    {
      "cell_type": "code",
      "source": [
        "# Example: Predict the rating for a specific user and movie\n",
        "user_id = 1\n",
        "movie_id = 10\n",
        "\n",
        "predicted_rating = model.predict(user_id, movie_id)\n",
        "\n",
        "print(f\"Predicted Rating for User {user_id} and Movie {movie_id}: {predicted_rating.est}\")\n"
      ],
      "metadata": {
        "colab": {
          "base_uri": "https://localhost:8080/"
        },
        "id": "JNxkrUJhgncJ",
        "outputId": "1e01fd73-c93a-4c41-85ba-1ec5bae68d94"
      },
      "execution_count": 15,
      "outputs": [
        {
          "output_type": "stream",
          "name": "stdout",
          "text": [
            "Predicted Rating for User 1 and Movie 10: 5\n"
          ]
        }
      ]
    },
    {
      "cell_type": "markdown",
      "source": [
        "#Explanation\n",
        "* Install and Import Libraries: We install the Surprise library and import necessary libraries for data handling and model creation.\n",
        "\n",
        "* Load and Prepare the Dataset: Load the dataset using pandas and examine its structure. This dataset contains user ratings for various movies.\n",
        "\n",
        "* Prepare the Data for the Surprise Library: Convert the data into a format that the Surprise library can use. This involves specifying the rating scale and loading the data into the Surprise data structure.\n",
        "\n",
        "* Split the Dataset: Split the dataset into training and test sets. This helps evaluate the model's performance on unseen data.\n",
        "\n",
        "* Train the Model: We use the Singular Value Decomposition (SVD) algorithm to train the model on the training set. SVD is effective for collaborative filtering tasks.\n",
        "\n",
        "* Evaluate the Model: After training, we evaluate the model using the test set. We use the Root Mean Squared Error (RMSE) to measure how well the predicted ratings match the actual ratings.\n",
        "\n",
        "* Make Movie Rating Predictions: The predict() function is used to estimate the rating a user would give to a particular movie.\n"
      ],
      "metadata": {
        "id": "iRieCSzBjbIb"
      }
    }
  ]
}